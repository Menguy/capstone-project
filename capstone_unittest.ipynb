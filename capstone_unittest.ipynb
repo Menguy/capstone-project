{
 "cells": [
  {
   "cell_type": "code",
   "execution_count": 1,
   "metadata": {},
   "outputs": [],
   "source": [
    "import re\n",
    "import numpy as np\n",
    "import datetime\n",
    "import pandas as pd\n",
    "#import unittest\n"
   ]
  },
  {
   "cell_type": "code",
   "execution_count": 10,
   "metadata": {},
   "outputs": [],
   "source": [
    "## for test\n",
    "#query = {\n",
    "#    'steps' : '2019-10-01' , \n",
    "#}"
   ]
  },
  {
   "cell_type": "code",
   "execution_count": 11,
   "metadata": {},
   "outputs": [],
   "source": [
    "# function or class to be tested\n",
    "format = \"%Y-%m-%d\"\n",
    "\n",
    "def slr_forecast(x_query):\n",
    "    if not isinstance(x_query, dict):\n",
    "        print(\"waiting for a dictionary\")  \n",
    "    elif isinstance(x_query, dict):\n",
    "        try: \n",
    "            first_value = list(x_query.values())[0]\n",
    "            datetime.datetime.strptime(first_value, format)\n",
    "            print(\"This is the correct date string format.\") \n",
    "        \n",
    "        except ValueError:\n",
    "            print(\"This is the incorrect date string format. It should be YYYY-MM-DD\") \n",
    "                \n",
    "    # Generate a one step ahead\n",
    "    data = {'date': ['2019-08-01','2019-09-01','2019-10-01','2019-11-01'], 'series': [10,20,30,40]}  \n",
    "    df = pd.DataFrame(data)  \n",
    "    value = list(x_query.values())[0]\n",
    "    forecast = df['series'].loc[df['date']==value]             \n",
    "    \n",
    "    return(forecast.values[0])\n",
    "\n",
    "class TestSimpleLForecast(unittest.TestCase):\n",
    "\n",
    "    # example test method\n",
    "    def test_numeric(self):\n",
    "        forecast = slr_forecast(2019)\n",
    "        self.assertEqual(30, forecast)\n",
    "\n",
    "    def test_str(self):\n",
    "        forecast = slr_forecast('2019-10-01')\n",
    "        self.assertEqual(30, forecast)\n",
    "        \n",
    "    def test_str(self):\n",
    "        forecast = slr_forecast({'steps' : '2019-10-01'})\n",
    "        self.assertEqual(30, forecast)\n",
    "        "
   ]
  },
  {
   "cell_type": "code",
   "execution_count": 12,
   "metadata": {},
   "outputs": [
    {
     "name": "stdout",
     "output_type": "stream",
     "text": [
      "This is the correct date string format.\n"
     ]
    },
    {
     "data": {
      "text/plain": [
       "30"
      ]
     },
     "execution_count": 12,
     "metadata": {},
     "output_type": "execute_result"
    }
   ],
   "source": [
    "## for test\n",
    "# slr_forecast(query)"
   ]
  },
  {
   "cell_type": "code",
   "execution_count": 13,
   "metadata": {},
   "outputs": [],
   "source": []
  },
  {
   "cell_type": "code",
   "execution_count": null,
   "metadata": {},
   "outputs": [],
   "source": [
    "class TestSimpleLForecast(unittest.TestCase):\n",
    "\n",
    "    # example test method\n",
    "    def test_numeric(self):\n",
    "        forecast = slr_forecast(2019)\n",
    "        self.assertEqual(30, forecast)\n",
    "\n",
    "    def test_str(self):\n",
    "        forecast = slr_forecast('2019-10-01')\n",
    "        self.assertEqual(30, forecast)\n",
    "        \n",
    "    def test_str(self):\n",
    "        forecast = slr_forecast({'steps' : '2019-10-01'})\n",
    "        self.assertEqual(30, forecast)"
   ]
  }
 ],
 "metadata": {
  "kernelspec": {
   "display_name": "Python 3",
   "language": "python",
   "name": "python3"
  },
  "language_info": {
   "codemirror_mode": {
    "name": "ipython",
    "version": 3
   },
   "file_extension": ".py",
   "mimetype": "text/x-python",
   "name": "python",
   "nbconvert_exporter": "python",
   "pygments_lexer": "ipython3",
   "version": "3.7.3"
  }
 },
 "nbformat": 4,
 "nbformat_minor": 2
}
